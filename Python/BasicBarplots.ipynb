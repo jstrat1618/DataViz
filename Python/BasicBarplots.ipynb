{
 "cells": [
  {
   "cell_type": "code",
   "execution_count": 1,
   "metadata": {
    "collapsed": false
   },
   "outputs": [
    {
     "data": {
      "image/png": "[encoded data removed]",
      "text/plain": [
       "<matplotlib.figure.Figure at 0x21e55e36208>"
      ]
     },
     "metadata": {},
     "output_type": "display_data"
    }
   ],
   "source": [
    "#Let’s make a basic barplot of two lists the list y. \n",
    "#We’ll use the list x to provide x coordinates for the boxplot, but this is not a variable of interest.\n",
    "import matplotlib.pyplot as plt\n",
    " \n",
    "x=[1,2]\n",
    "y=[8,3]\n",
    " \n",
    "#A Basic barplot\n",
    "plt.bar(x,y)\n",
    "plt.show()"
   ]
  },
  {
   "cell_type": "code",
   "execution_count": 4,
   "metadata": {
    "collapsed": false
   },
   "outputs": [
    {
     "data": {
      "image/png": "[encoded data removed]",
      "text/plain": [
       "<matplotlib.figure.Figure at 0x21e5707bda0>"
      ]
     },
     "metadata": {},
     "output_type": "display_data"
    }
   ],
   "source": [
    "#Let’s say we want to compare the Golden State Warriors shoot 55% at home and 49% on the road.\n",
    "#Here's how we would plot this.\n",
    "gsw=[55,49]\n",
    "xgsw=[0,1]\n",
    "labs=['Home', 'Away']\n",
    "\n",
    "plt.bar(xgsw, gsw)\n",
    " \n",
    "#Let’s change the axses\n",
    "#Get current axses\n",
    "axes = plt.gca()\n",
    "#Change the x axsis\n",
    "axes.set_xlim([-1,3])#Note you cannot use this function without plt.gca()\n",
    "#However, we don’t want the x-axis to say be numbers; we want it to say Home or Away\n",
    "plt.xticks(xgsw, labs)\n",
    "plt.show()"
   ]
  },
  {
   "cell_type": "code",
   "execution_count": 5,
   "metadata": {
    "collapsed": false
   },
   "outputs": [
    {
     "data": {
      "image/png": "[encoded data removed]",
      "text/plain": [
       "<matplotlib.figure.Figure at 0x21e57072860>"
      ]
     },
     "metadata": {},
     "output_type": "display_data"
    }
   ],
   "source": [
    "#Suppose the LAL are 48% at Home and 43% Away. Let’s incorporate both teams into a bar plot\n",
    "lal=[48,43]\n",
    "xlal=[2,3]\n",
    " \n",
    "plt.bar(xgsw, gsw, label=\"GSW\", color=\"gold\")\n",
    "plt.bar(xlal, lal, label=\"LAL\", color=\"purple\")\n",
    "#Get current axses\n",
    "axses=plt.gca()\n",
    "#Change x-axis\n",
    "axses.set_xlim([-1,4])\n",
    "#Now we need new labels on the x-axis\n",
    "xlabs=[0,1,2,3]\n",
    "newLabs=['H','A','H','A']\n",
    "plt.xticks(xlabs, newLabs)\n",
    "#Legend to distiguish teams\n",
    "plt.legend()\n",
    "#Label both axses\n",
    "plt.xlabel(\"H= Home   A= Away\")\n",
    "plt.ylabel(\"Shooting Percentage\")\n",
    "#Add a title\n",
    "plt.title(\"LAL vs GSW \\n Shooting Percentage\") #\\n moves to the next line\n",
    "plt.show()"
   ]
  },
  {
   "cell_type": "code",
   "execution_count": null,
   "metadata": {
    "collapsed": true
   },
   "outputs": [],
   "source": []
  }
 ],
 "metadata": {
  "kernelspec": {
   "display_name": "Python [conda root]",
   "language": "python",
   "name": "conda-root-py"
  },
  "language_info": {
   "codemirror_mode": {
    "name": "ipython",
    "version": 3
   },
   "file_extension": ".py",
   "mimetype": "text/x-python",
   "name": "python",
   "nbconvert_exporter": "python",
   "pygments_lexer": "ipython3",
   "version": "3.5.2"
  }
 },
 "nbformat": 4,
 "nbformat_minor": 2
}
